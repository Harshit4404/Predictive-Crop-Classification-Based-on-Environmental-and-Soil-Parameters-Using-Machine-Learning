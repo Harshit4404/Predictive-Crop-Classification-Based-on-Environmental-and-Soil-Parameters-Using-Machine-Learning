{
 "cells": [
  {
   "cell_type": "code",
   "execution_count": 1,
   "id": "60b2a905-2b90-4a0a-9b64-ee6213556e12",
   "metadata": {},
   "outputs": [],
   "source": [
    "import numpy as np \n",
    "import pandas as pd\n",
    "import seaborn as sns\n",
    "import matplotlib.pyplot as plt\n",
    "import warnings\n",
    "warnings.simplefilter(action='ignore', category=FutureWarning)\n",
    "warnings.simplefilter(action='ignore', category=UserWarning)\n",
    "%matplotlib inline\n"
   ]
  },
  {
   "cell_type": "code",
   "execution_count": 2,
   "id": "2ccec96f-d060-47d6-a0d9-82c98a3a1a66",
   "metadata": {},
   "outputs": [
    {
     "data": {
      "text/html": [
       "<div>\n",
       "<style scoped>\n",
       "    .dataframe tbody tr th:only-of-type {\n",
       "        vertical-align: middle;\n",
       "    }\n",
       "\n",
       "    .dataframe tbody tr th {\n",
       "        vertical-align: top;\n",
       "    }\n",
       "\n",
       "    .dataframe thead th {\n",
       "        text-align: right;\n",
       "    }\n",
       "</style>\n",
       "<table border=\"1\" class=\"dataframe\">\n",
       "  <thead>\n",
       "    <tr style=\"text-align: right;\">\n",
       "      <th></th>\n",
       "      <th>Temperature</th>\n",
       "      <th>Nitrogen</th>\n",
       "      <th>Potassium</th>\n",
       "      <th>Phosphorus</th>\n",
       "      <th>Rainfall</th>\n",
       "      <th>Humidity</th>\n",
       "      <th>PH_Value</th>\n",
       "      <th>Crop</th>\n",
       "    </tr>\n",
       "  </thead>\n",
       "  <tbody>\n",
       "    <tr>\n",
       "      <th>0</th>\n",
       "      <td>20.879744</td>\n",
       "      <td>90</td>\n",
       "      <td>43</td>\n",
       "      <td>42</td>\n",
       "      <td>202.935536</td>\n",
       "      <td>82.002744</td>\n",
       "      <td>6.502985</td>\n",
       "      <td>Rice</td>\n",
       "    </tr>\n",
       "    <tr>\n",
       "      <th>1</th>\n",
       "      <td>21.770462</td>\n",
       "      <td>85</td>\n",
       "      <td>41</td>\n",
       "      <td>58</td>\n",
       "      <td>226.655537</td>\n",
       "      <td>80.319644</td>\n",
       "      <td>7.038096</td>\n",
       "      <td>Rice</td>\n",
       "    </tr>\n",
       "    <tr>\n",
       "      <th>2</th>\n",
       "      <td>23.004459</td>\n",
       "      <td>60</td>\n",
       "      <td>44</td>\n",
       "      <td>55</td>\n",
       "      <td>263.964248</td>\n",
       "      <td>82.320763</td>\n",
       "      <td>7.840207</td>\n",
       "      <td>Rice</td>\n",
       "    </tr>\n",
       "    <tr>\n",
       "      <th>3</th>\n",
       "      <td>26.491096</td>\n",
       "      <td>74</td>\n",
       "      <td>40</td>\n",
       "      <td>35</td>\n",
       "      <td>242.864034</td>\n",
       "      <td>80.158363</td>\n",
       "      <td>6.980401</td>\n",
       "      <td>Rice</td>\n",
       "    </tr>\n",
       "    <tr>\n",
       "      <th>4</th>\n",
       "      <td>20.130175</td>\n",
       "      <td>78</td>\n",
       "      <td>42</td>\n",
       "      <td>42</td>\n",
       "      <td>262.717340</td>\n",
       "      <td>81.604873</td>\n",
       "      <td>7.628473</td>\n",
       "      <td>Rice</td>\n",
       "    </tr>\n",
       "  </tbody>\n",
       "</table>\n",
       "</div>"
      ],
      "text/plain": [
       "   Temperature  Nitrogen  Potassium  Phosphorus    Rainfall   Humidity  \\\n",
       "0    20.879744        90         43          42  202.935536  82.002744   \n",
       "1    21.770462        85         41          58  226.655537  80.319644   \n",
       "2    23.004459        60         44          55  263.964248  82.320763   \n",
       "3    26.491096        74         40          35  242.864034  80.158363   \n",
       "4    20.130175        78         42          42  262.717340  81.604873   \n",
       "\n",
       "   PH_Value  Crop  \n",
       "0  6.502985  Rice  \n",
       "1  7.038096  Rice  \n",
       "2  7.840207  Rice  \n",
       "3  6.980401  Rice  \n",
       "4  7.628473  Rice  "
      ]
     },
     "execution_count": 2,
     "metadata": {},
     "output_type": "execute_result"
    }
   ],
   "source": [
    "df=pd.read_csv('Reordered_Crop_Recommendation.csv')\n",
    "df.head()"
   ]
  },
  {
   "cell_type": "code",
   "execution_count": 5,
   "id": "3b7b6a16-d82f-4506-8246-ede89121d07c",
   "metadata": {},
   "outputs": [],
   "source": [
    "c=df.Crop.astype('category')\n",
    "targets = dict(enumerate(c.cat.categories))\n",
    "df['target']=c.cat.codes\n",
    "\n",
    "y=df.target\n",
    "X=df[['Temperature','Nitrogen','Potassium','Phosphorus','Rainfall','Humidity','PH_Value']]"
   ]
  },
  {
   "cell_type": "code",
   "execution_count": 6,
   "id": "c3e253e7-a978-4357-9d34-932c83971f33",
   "metadata": {},
   "outputs": [],
   "source": [
    "from sklearn.model_selection import train_test_split\n",
    "from sklearn.preprocessing import MinMaxScaler\n",
    "\n",
    "X_train, X_test, y_train, y_test = train_test_split(X, y,random_state=1)\n",
    "\n",
    "scaler = MinMaxScaler()\n",
    "X_train_scaled = scaler.fit_transform(X_train)\n",
    "\n",
    "X_test_scaled = scaler.transform(X_test)"
   ]
  },
  {
   "cell_type": "markdown",
   "id": "787418dd-6e63-4108-9da1-47bd8bcc148f",
   "metadata": {},
   "source": [
    "# Classification using SVC"
   ]
  },
  {
   "cell_type": "code",
   "execution_count": 9,
   "id": "d96b5775-b556-4d27-a633-779c3e2a9cc8",
   "metadata": {},
   "outputs": [
    {
     "name": "stdout",
     "output_type": "stream",
     "text": [
      "Linear Kernel Accuracy:  0.9745454545454545\n",
      "Rbf Kernel Accuracy:  0.9872727272727273\n",
      "Poly Kernel Accuracy:  0.9890909090909091\n"
     ]
    }
   ],
   "source": [
    "from sklearn.svm import SVC\n",
    "\n",
    "svc_linear = SVC(kernel = 'linear').fit(X_train_scaled, y_train)\n",
    "print(\"Linear Kernel Accuracy: \",svc_linear.score(X_test_scaled,y_test))\n",
    "\n",
    "svc_poly = SVC(kernel = 'rbf').fit(X_train_scaled, y_train)\n",
    "print(\"Rbf Kernel Accuracy: \", svc_poly.score(X_test_scaled,y_test))\n",
    "\n",
    "svc_poly = SVC(kernel = 'poly').fit(X_train_scaled, y_train)\n",
    "print(\"Poly Kernel Accuracy: \", svc_poly.score(X_test_scaled,y_test))"
   ]
  },
  {
   "cell_type": "markdown",
   "id": "32ed8561-0f6a-45ac-98d4-483d31058019",
   "metadata": {},
   "source": [
    "# Classification using Gradiend Boosting \n"
   ]
  },
  {
   "cell_type": "code",
   "execution_count": 10,
   "id": "36e0b28e-b75b-4374-a19d-f302ba28daa4",
   "metadata": {},
   "outputs": [
    {
     "name": "stdout",
     "output_type": "stream",
     "text": [
      "Gradient Boosting accuracy : 0.9945454545454545\n"
     ]
    }
   ],
   "source": [
    "from sklearn.ensemble import GradientBoostingClassifier\n",
    "grad = GradientBoostingClassifier().fit(X_train, y_train)\n",
    "print('Gradient Boosting accuracy : {}'.format(grad.score(X_test,y_test)))\n"
   ]
  },
  {
   "cell_type": "code",
   "execution_count": 11,
   "id": "da1c6ef5-6a70-4434-9930-80a1292b3742",
   "metadata": {},
   "outputs": [],
   "source": [
    "input_data = {\n",
    "   'Temperature': [25],\n",
    "    'Nitrogen':[90],\n",
    "    'Potassium':[70],\n",
    "    'Phosphorus':[50],\n",
    "    'Rainfall':[200],\n",
    "    'Humidity':[60],\n",
    "    'PH_Value':[6.5],\n",
    "}"
   ]
  },
  {
   "cell_type": "code",
   "execution_count": 12,
   "id": "5dbf8fa7-e7eb-4053-a7f5-879a77a305db",
   "metadata": {},
   "outputs": [],
   "source": [
    "input_df = pd.DataFrame(input_data)\n"
   ]
  },
  {
   "cell_type": "code",
   "execution_count": 13,
   "id": "2b14ce36-d7a5-4c64-ae19-e94743305d45",
   "metadata": {},
   "outputs": [],
   "source": [
    "prediction = grad.predict(input_df)"
   ]
  },
  {
   "cell_type": "code",
   "execution_count": 17,
   "id": "bcc7a1e9-0876-4f7c-a042-39c4e3d84aa6",
   "metadata": {},
   "outputs": [
    {
     "name": "stdout",
     "output_type": "stream",
     "text": [
      "Predicted Output: Coffee\n"
     ]
    }
   ],
   "source": [
    "print(f\"Predicted Output: {targets[prediction[0]]}\")"
   ]
  },
  {
   "cell_type": "code",
   "execution_count": 18,
   "id": "36ec3a83-d4e0-4ab9-842f-ffe4f461f6c8",
   "metadata": {},
   "outputs": [
    {
     "name": "stdout",
     "output_type": "stream",
     "text": [
      "{0: 'Apple', 1: 'Banana', 2: 'Blackgram', 3: 'ChickPea', 4: 'Coconut', 5: 'Coffee', 6: 'Cotton', 7: 'Grapes', 8: 'Jute', 9: 'KidneyBeans', 10: 'Lentil', 11: 'Maize', 12: 'Mango', 13: 'MothBeans', 14: 'MungBean', 15: 'Muskmelon', 16: 'Orange', 17: 'Papaya', 18: 'PigeonPeas', 19: 'Pomegranate', 20: 'Rice', 21: 'Watermelon'}\n"
     ]
    }
   ],
   "source": [
    "print(targets)"
   ]
  },
  {
   "cell_type": "code",
   "execution_count": 19,
   "id": "79e409f5-6743-42f4-96af-96b3ed976e71",
   "metadata": {},
   "outputs": [
    {
     "data": {
      "text/plain": [
       "['crop_prediction_model.joblib']"
      ]
     },
     "execution_count": 19,
     "metadata": {},
     "output_type": "execute_result"
    }
   ],
   "source": [
    "from joblib import dump\n",
    "\n",
    "# Save the model\n",
    "dump(grad, 'crop_prediction_model.joblib')"
   ]
  },
  {
   "cell_type": "code",
   "execution_count": null,
   "id": "53921ca5-c864-45b7-857a-911e2264482a",
   "metadata": {},
   "outputs": [],
   "source": []
  }
 ],
 "metadata": {
  "kernelspec": {
   "display_name": "Python 3 (ipykernel)",
   "language": "python",
   "name": "python3"
  },
  "language_info": {
   "codemirror_mode": {
    "name": "ipython",
    "version": 3
   },
   "file_extension": ".py",
   "mimetype": "text/x-python",
   "name": "python",
   "nbconvert_exporter": "python",
   "pygments_lexer": "ipython3",
   "version": "3.12.6"
  }
 },
 "nbformat": 4,
 "nbformat_minor": 5
}
